{
 "cells": [
  {
   "cell_type": "markdown",
   "id": "92edad67-0dff-426b-8ea1-d064e8d696f6",
   "metadata": {},
   "source": [
    "# Data Science Tools and Ecosystem"
   ]
  },
  {
   "cell_type": "markdown",
   "id": "821aae2d-c446-44b4-bfdb-a55e8bca9f6f",
   "metadata": {},
   "source": [
    "In this notebook, Data Science Tools and Ecosystem are summarized.\n",
    "\n",
    "**Objectives:**\n",
    "* List popular languages for Data Science\n",
    "* List commonly used Data science libraries\n",
    "* Create Data science Tools table\n",
    "* Simple arithmetic expressions in Python\n",
    "* Show how to convert units (minutes to hours)."
   ]
  },
  {
   "cell_type": "markdown",
   "id": "ee15e28d-a25a-4f6a-83c1-1da29b78617b",
   "metadata": {},
   "source": [
    "Some of the popular languages that Data Scientists use are:\n",
    "1. Python\n",
    "2. R\n",
    "3. SQL\n",
    "4. Julia"
   ]
  },
  {
   "cell_type": "markdown",
   "id": "d33b7d3a-ed74-4379-bce8-b763c9f021fc",
   "metadata": {},
   "source": [
    "Some of the commonly used libraries used by Data Scientists include:\n",
    "1. Pandas\n",
    "2. Matplotlib\n",
    "3. NumPy\n",
    "4. Scikit-learn"
   ]
  },
  {
   "cell_type": "markdown",
   "id": "2c161a52-042a-4fd7-9cc0-45a33314a097",
   "metadata": {},
   "source": [
    "|Data Science Tools|\n",
    "|------------------|\n",
    "|Jupyter Notebooks |\n",
    "|RStudio           |\n",
    "|Appache Zeppelin  |"
   ]
  },
  {
   "cell_type": "markdown",
   "id": "7314d2f1-b852-47e0-be0c-676f988d8d7c",
   "metadata": {},
   "source": [
    "### Below are a few examples of evaluating arithmetic expressions in Python"
   ]
  },
  {
   "cell_type": "code",
   "execution_count": 2,
   "id": "db06a908-5388-4230-aa08-f94ad176838d",
   "metadata": {},
   "outputs": [
    {
     "data": {
      "text/plain": [
       "17"
      ]
     },
     "execution_count": 2,
     "metadata": {},
     "output_type": "execute_result"
    }
   ],
   "source": [
    "# This a simple arithmetic expression to mutiply then add integers\n",
    "(3*4)+5"
   ]
  },
  {
   "cell_type": "code",
   "execution_count": 3,
   "id": "e8f8ae29-64c0-4932-8f7e-40736cf2b3b4",
   "metadata": {},
   "outputs": [
    {
     "data": {
      "text/plain": [
       "3.3333333333333335"
      ]
     },
     "execution_count": 3,
     "metadata": {},
     "output_type": "execute_result"
    }
   ],
   "source": [
    "# This will convert 200 minutes to hours by diving by 60\n",
    "200/60"
   ]
  },
  {
   "cell_type": "markdown",
   "id": "35d599f8-e22a-4229-9f91-fe771e9c2e26",
   "metadata": {},
   "source": [
    "## Author\n",
    "Waheed Ali"
   ]
  },
  {
   "cell_type": "code",
   "execution_count": null,
   "id": "d3f7589b-e5f0-4db1-9d48-acfb3c016231",
   "metadata": {},
   "outputs": [],
   "source": []
  }
 ],
 "metadata": {
  "kernelspec": {
   "display_name": "Python 3 (ipykernel)",
   "language": "python",
   "name": "python3"
  },
  "language_info": {
   "codemirror_mode": {
    "name": "ipython",
    "version": 3
   },
   "file_extension": ".py",
   "mimetype": "text/x-python",
   "name": "python",
   "nbconvert_exporter": "python",
   "pygments_lexer": "ipython3",
   "version": "3.13.5"
  }
 },
 "nbformat": 4,
 "nbformat_minor": 5
}
